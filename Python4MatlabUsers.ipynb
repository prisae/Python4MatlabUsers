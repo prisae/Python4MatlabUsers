{
 "cells": [
  {
   "cell_type": "markdown",
   "id": "e3cea7b2",
   "metadata": {
    "slideshow": {
     "slide_type": "slide"
    }
   },
   "source": [
    "# Python for Matlab Users\n",
    "    Monday, 24th June 2024, 2-4pm\n",
    "    Computational Seminars @ GSE\n",
    "    \n",
    "https://github.com/prisae/Python4MatlabUsers"
   ]
  },
  {
   "cell_type": "markdown",
   "id": "c38cf1f4",
   "metadata": {},
   "source": [
    "## The `;`\n",
    "\n",
    "In Python, statements are NOT printed by default, so you do NOT have to finish every line with a `;`. On the other hand, if you **want** something to be printed, you have to explicitely print it via `print(x)`.\n",
    "\n",
    "The notebook has an exception in that the last statement of a cell is printed, unless it is an assignment or is surpressed."
   ]
  },
  {
   "cell_type": "code",
   "execution_count": 1,
   "id": "0134600f",
   "metadata": {},
   "outputs": [],
   "source": [
    "x = 1\n",
    "# print(x)\n",
    "y = 2\n",
    "z = 3\n",
    "# z\n",
    "# z;"
   ]
  },
  {
   "cell_type": "markdown",
   "id": "e2ec8a14",
   "metadata": {},
   "source": [
    "## Loops are different\n",
    "\n",
    "Loops are an example of different things, amongst other, that **white space matters!**. In turn, there is no `end`.\n",
    "\n",
    "In Matlab, you would make a loop like:\n",
    "\n",
    "```\n",
    "for i=0:4\n",
    "out = 3^i\n",
    "end\n",
    "```\n",
    "\n",
    "In theory, you can use any amount of whitespace for intendation, as long as you are consistent through your entire file (or cell). \n",
    "\n",
    "**=> Four (4) whitespace is the common intendation**.\n",
    "\n",
    "DON'T USE TABS! (That is a common programming advice...)"
   ]
  },
  {
   "cell_type": "code",
   "execution_count": 2,
   "id": "3eb5a69e",
   "metadata": {},
   "outputs": [
    {
     "name": "stdout",
     "output_type": "stream",
     "text": [
      "1\n",
      "3\n",
      "9\n",
      "27\n",
      "81\n"
     ]
    }
   ],
   "source": [
    "for i in range(5):\n",
    "    out = 3**i\n",
    "    print(out)"
   ]
  },
  {
   "cell_type": "markdown",
   "id": "c604fe94",
   "metadata": {},
   "source": [
    "# Line continuation\n",
    "\n",
    "In Matlab you have the three dots `...`. You would do something like\n",
    "```\n",
    "a = 1 + ...\n",
    "2\n",
    "```\n",
    "\n",
    "In Python, you usually use brackets and intendation (with brackets, the intendation is not well defined).\n"
   ]
  },
  {
   "cell_type": "code",
   "execution_count": 3,
   "id": "217733fd",
   "metadata": {},
   "outputs": [
    {
     "data": {
      "text/plain": [
       "3"
      ]
     },
     "execution_count": 3,
     "metadata": {},
     "output_type": "execute_result"
    }
   ],
   "source": [
    "a = (1 +\n",
    "     2)\n",
    "a"
   ]
  },
  {
   "cell_type": "markdown",
   "id": "784d845e",
   "metadata": {},
   "source": [
    "Less common is the backslash `\\`"
   ]
  },
  {
   "cell_type": "code",
   "execution_count": 4,
   "id": "8183c26b",
   "metadata": {},
   "outputs": [
    {
     "data": {
      "text/plain": [
       "3"
      ]
     },
     "execution_count": 4,
     "metadata": {},
     "output_type": "execute_result"
    }
   ],
   "source": [
    "a = 1 + \\\n",
    "    2\n",
    "a"
   ]
  },
  {
   "cell_type": "markdown",
   "id": "76a0d115",
   "metadata": {},
   "source": [
    "## Let's get started with NumPy; look at the namespace; comments\n",
    "\n",
    "it is the common numerical library in Python, used in most things. **In NumPy, everything is a multidimensional** (nd) array (not a matrix, as in Matlab).\n",
    "\n",
    "In Matlab, everthing is in the top namespace. In Python, things are organized in modules/packages, which you have to import. It is good style to import everything you need at the top of your functions. (There is a possibility to import everything from a module/package by using the asterix; do not do that.)\n",
    "\n",
    "In the next cell we import the two main packages we will use today. You can also see that in Python a comment is marked by `#`, not by a `%` as in Matlab."
   ]
  },
  {
   "cell_type": "code",
   "execution_count": 5,
   "id": "7d578aff",
   "metadata": {},
   "outputs": [],
   "source": [
    "import numpy as np               # The base numerical library\n",
    "import matplotlib.pyplot as plt  # For plotting; there are many alternatives"
   ]
  },
  {
   "cell_type": "markdown",
   "id": "0af8cd28",
   "metadata": {},
   "source": [
    "In Matlab, functions like the square root are in the top namespace\n",
    "```\n",
    "sqrt(4)\n",
    "```"
   ]
  },
  {
   "cell_type": "code",
   "execution_count": 6,
   "id": "15b249fe",
   "metadata": {},
   "outputs": [
    {
     "data": {
      "text/plain": [
       "2.0"
      ]
     },
     "execution_count": 6,
     "metadata": {},
     "output_type": "execute_result"
    }
   ],
   "source": [
    "np.sqrt(4)"
   ]
  },
  {
   "cell_type": "markdown",
   "id": "b67a2581",
   "metadata": {},
   "source": [
    "In Python/NumPy, rounded brackets `()` are for function calls; square brackets `[]` to access arrays.\n",
    "\n",
    "In Matlab, you would do\n",
    "```\n",
    "a = [1, 2; 3, 4]\n",
    "```"
   ]
  },
  {
   "cell_type": "code",
   "execution_count": 7,
   "id": "7e6da5d9",
   "metadata": {},
   "outputs": [
    {
     "data": {
      "text/plain": [
       "array([[1, 2],\n",
       "       [3, 4]])"
      ]
     },
     "execution_count": 7,
     "metadata": {},
     "output_type": "execute_result"
    }
   ],
   "source": [
    "a = np.array([[1, 2], [3, 4]])\n",
    "a"
   ]
  },
  {
   "cell_type": "markdown",
   "id": "7ff5c9c6",
   "metadata": {},
   "source": [
    "Matlab:\n",
    "```\n",
    "b = linspace(10, 100, 11)\n",
    "```"
   ]
  },
  {
   "cell_type": "code",
   "execution_count": 8,
   "id": "dc02b8a9",
   "metadata": {},
   "outputs": [
    {
     "data": {
      "text/plain": [
       "array([ 10.,  20.,  30.,  40.,  50.,  60.,  70.,  80.,  90., 100.])"
      ]
     },
     "execution_count": 8,
     "metadata": {},
     "output_type": "execute_result"
    }
   ],
   "source": [
    "b = np.linspace(10, 100, 10)\n",
    "b"
   ]
  },
  {
   "cell_type": "markdown",
   "id": "3cd48198",
   "metadata": {},
   "source": [
    "The default data type in python is float64:"
   ]
  },
  {
   "cell_type": "markdown",
   "id": "e8644a5d",
   "metadata": {},
   "source": [
    "## OO on arrays!"
   ]
  },
  {
   "cell_type": "code",
   "execution_count": 9,
   "id": "7fadb3c9",
   "metadata": {},
   "outputs": [],
   "source": [
    "c = np.arange(24).reshape(3, 4, 2)"
   ]
  },
  {
   "cell_type": "code",
   "execution_count": 10,
   "id": "a8034f92",
   "metadata": {},
   "outputs": [
    {
     "data": {
      "text/plain": [
       "dtype('int64')"
      ]
     },
     "execution_count": 10,
     "metadata": {},
     "output_type": "execute_result"
    }
   ],
   "source": [
    "c.dtype"
   ]
  },
  {
   "cell_type": "code",
   "execution_count": 11,
   "id": "27db2dd5",
   "metadata": {},
   "outputs": [
    {
     "data": {
      "text/plain": [
       "3"
      ]
     },
     "execution_count": 11,
     "metadata": {},
     "output_type": "execute_result"
    }
   ],
   "source": [
    "c.ndim"
   ]
  },
  {
   "cell_type": "code",
   "execution_count": 12,
   "id": "f04409d9",
   "metadata": {},
   "outputs": [
    {
     "data": {
      "text/plain": [
       "24"
      ]
     },
     "execution_count": 12,
     "metadata": {},
     "output_type": "execute_result"
    }
   ],
   "source": [
    "c.size"
   ]
  },
  {
   "cell_type": "code",
   "execution_count": 13,
   "id": "f08afd57",
   "metadata": {},
   "outputs": [
    {
     "data": {
      "text/plain": [
       "(3, 4, 2)"
      ]
     },
     "execution_count": 13,
     "metadata": {},
     "output_type": "execute_result"
    }
   ],
   "source": [
    "c.shape"
   ]
  },
  {
   "cell_type": "code",
   "execution_count": 14,
   "id": "8a2417d6",
   "metadata": {},
   "outputs": [
    {
     "data": {
      "text/plain": [
       "(0, 23)"
      ]
     },
     "execution_count": 14,
     "metadata": {},
     "output_type": "execute_result"
    }
   ],
   "source": [
    "c.min(), c.max()"
   ]
  },
  {
   "cell_type": "code",
   "execution_count": 15,
   "id": "a39a0cb8",
   "metadata": {},
   "outputs": [
    {
     "data": {
      "text/plain": [
       "(array([[[ 0,  1],\n",
       "         [ 2,  3],\n",
       "         [ 4,  5],\n",
       "         [ 6,  7]],\n",
       " \n",
       "        [[ 8,  9],\n",
       "         [10, 11],\n",
       "         [12, 13],\n",
       "         [14, 15]],\n",
       " \n",
       "        [[16, 17],\n",
       "         [18, 19],\n",
       "         [20, 21],\n",
       "         [22, 23]]]),\n",
       " array([[[0, 0],\n",
       "         [0, 0],\n",
       "         [0, 0],\n",
       "         [0, 0]],\n",
       " \n",
       "        [[0, 0],\n",
       "         [0, 0],\n",
       "         [0, 0],\n",
       "         [0, 0]],\n",
       " \n",
       "        [[0, 0],\n",
       "         [0, 0],\n",
       "         [0, 0],\n",
       "         [0, 0]]]))"
      ]
     },
     "execution_count": 15,
     "metadata": {},
     "output_type": "execute_result"
    }
   ],
   "source": [
    "c.real, c.imag"
   ]
  },
  {
   "cell_type": "markdown",
   "id": "379ec02d",
   "metadata": {},
   "source": [
    "## 0-Indexing!\n",
    "\n",
    "Python takes a lot from the `C` language, and it has therefore 0-indexing. Matlab has therefore 1-indexing.\n",
    "\n",
    "The last element in NumPy is `-1`, not `end`. Similar, you can access any `-N` element.\n",
    "\n",
    "Let's take above `b`-array. In Matlab, you can access the first and last index can be accessed via:\n",
    "```\n",
    "b(1)    % first index\n",
    "b(end)  % last index\n",
    "```"
   ]
  },
  {
   "cell_type": "code",
   "execution_count": 16,
   "id": "eace4321",
   "metadata": {},
   "outputs": [
    {
     "data": {
      "text/plain": [
       "(10.0, 100.0, 90.0)"
      ]
     },
     "execution_count": 16,
     "metadata": {},
     "output_type": "execute_result"
    }
   ],
   "source": [
    "b[0], b[-1], b[-2]"
   ]
  },
  {
   "cell_type": "markdown",
   "id": "6fa8b962",
   "metadata": {},
   "source": [
    "## Loops\n",
    "\n",
    "In the following a comparison of different loop structures.\n",
    "\n",
    "### Simple loop\n",
    "\n",
    "Matlab\n",
    "```\n",
    "for i=0:4\n",
    "  i\n",
    "end\n",
    "```"
   ]
  },
  {
   "cell_type": "code",
   "execution_count": 17,
   "id": "247f66a9",
   "metadata": {},
   "outputs": [
    {
     "name": "stdout",
     "output_type": "stream",
     "text": [
      "0\n",
      "1\n",
      "2\n",
      "3\n",
      "4\n"
     ]
    }
   ],
   "source": [
    "for i in range(5):\n",
    "    print(i)"
   ]
  },
  {
   "cell_type": "markdown",
   "id": "84faf003",
   "metadata": {},
   "source": [
    "### If - elseif/elif -- else\n",
    "\n",
    "Matlab\n",
    "```\n",
    "a = 1;\n",
    "% a = 2;\n",
    "% a = 3;\n",
    "\n",
    "if a == 1\n",
    "  disp('a is one')\n",
    "elseif a == 2\n",
    "  disp('a is two')\n",
    "else\n",
    "  disp('a is neither one nor two')\n",
    "end\n",
    "```"
   ]
  },
  {
   "cell_type": "code",
   "execution_count": 18,
   "id": "f22c5ceb",
   "metadata": {},
   "outputs": [
    {
     "name": "stdout",
     "output_type": "stream",
     "text": [
      "a is one\n"
     ]
    }
   ],
   "source": [
    "a = 1\n",
    "# a = 2\n",
    "# a = 3\n",
    "\n",
    "if a == 1:\n",
    "    print('a is one')\n",
    "elif a == 2:\n",
    "    print('a is two')\n",
    "else:\n",
    "    print('a is neither one nor two')"
   ]
  },
  {
   "cell_type": "code",
   "execution_count": 19,
   "id": "2f4236f9",
   "metadata": {},
   "outputs": [
    {
     "name": "stdout",
     "output_type": "stream",
     "text": [
      "0\n",
      "1\n",
      "2\n",
      "3\n",
      "4\n"
     ]
    }
   ],
   "source": [
    "for i in range(5):\n",
    "    print(i)"
   ]
  },
  {
   "cell_type": "markdown",
   "id": "1b9c0bbc",
   "metadata": {},
   "source": [
    "### Loop Control"
   ]
  },
  {
   "cell_type": "code",
   "execution_count": 20,
   "id": "f7c40ded",
   "metadata": {},
   "outputs": [
    {
     "name": "stdout",
     "output_type": "stream",
     "text": [
      "Loop 0\n",
      "Loop 1\n",
      "Loop 2\n",
      "  =======>  we reached the end!\n",
      "Loop 3\n",
      "  =======>  we reached the end!\n",
      "Loop 4\n",
      "  =======>  we reached the end!\n",
      "Loop 5\n"
     ]
    }
   ],
   "source": [
    "for i in range(600):\n",
    "    print(f\"Loop {i}\")\n",
    "    if i < 2:\n",
    "        continue\n",
    "    elif i > 4:\n",
    "        break\n",
    "    print(\"  =======>  we reached the end!\")"
   ]
  },
  {
   "cell_type": "markdown",
   "id": "d53a1454",
   "metadata": {},
   "source": [
    "## f-strings\n",
    "\n",
    "Since Python 3.6; powerful and readable print statements."
   ]
  },
  {
   "cell_type": "code",
   "execution_count": 21,
   "id": "c7ce3fc6",
   "metadata": {},
   "outputs": [
    {
     "name": "stdout",
     "output_type": "stream",
     "text": [
      "This is neat, it handles 1 and formats nicely 3.1416\n"
     ]
    }
   ],
   "source": [
    "x = 1\n",
    "y = np.pi\n",
    "z = 'neat'\n",
    "\n",
    "print(f\"This is {z}, it handles {x} and formats nicely {y:2.4f}\")"
   ]
  },
  {
   "cell_type": "markdown",
   "id": "cd0aabce",
   "metadata": {},
   "source": [
    "## Don't use numpy arrays for everything, they have an overhead"
   ]
  },
  {
   "cell_type": "code",
   "execution_count": 22,
   "id": "783edfc6",
   "metadata": {},
   "outputs": [
    {
     "name": "stdout",
     "output_type": "stream",
     "text": [
      "1.86 µs ± 426 ns per loop (mean ± std. dev. of 7 runs, 1,000,000 loops each)\n"
     ]
    }
   ],
   "source": [
    "%%timeit\n",
    "\n",
    "for i in np.arange(5):\n",
    "    pass"
   ]
  },
  {
   "cell_type": "code",
   "execution_count": 23,
   "id": "6a27f222",
   "metadata": {},
   "outputs": [
    {
     "name": "stdout",
     "output_type": "stream",
     "text": [
      "280 ns ± 26.2 ns per loop (mean ± std. dev. of 7 runs, 1,000,000 loops each)\n"
     ]
    }
   ],
   "source": [
    "%%timeit\n",
    "\n",
    "for i in range(5):\n",
    "    pass"
   ]
  },
  {
   "cell_type": "markdown",
   "id": "835b0324",
   "metadata": {},
   "source": [
    "## Logical operators\n",
    "\n",
    "The Matlab operators `&&` and `||` are `and` and `or` in Python."
   ]
  },
  {
   "cell_type": "code",
   "execution_count": 24,
   "id": "1de33a75",
   "metadata": {},
   "outputs": [
    {
     "data": {
      "text/plain": [
       "False"
      ]
     },
     "execution_count": 24,
     "metadata": {},
     "output_type": "execute_result"
    }
   ],
   "source": [
    "a = 1\n",
    "b = 2\n",
    "a == 1 and b == 1"
   ]
  },
  {
   "cell_type": "code",
   "execution_count": 25,
   "id": "f85a8b22",
   "metadata": {},
   "outputs": [
    {
     "data": {
      "text/plain": [
       "True"
      ]
     },
     "execution_count": 25,
     "metadata": {},
     "output_type": "execute_result"
    }
   ],
   "source": [
    "a == 1 or b == 1"
   ]
  },
  {
   "cell_type": "markdown",
   "id": "6059ffbb",
   "metadata": {},
   "source": [
    "They only work on scalars. Otherwise you'll need the NumPy equivalents, `np.logical_{and;not;or;xor}`."
   ]
  },
  {
   "cell_type": "code",
   "execution_count": 26,
   "id": "3a77564c",
   "metadata": {},
   "outputs": [
    {
     "name": "stdout",
     "output_type": "stream",
     "text": [
      "a, [1. 1. 1. 1. 1.]\n",
      "b, [2. 2. 2. 2. 2.]\n"
     ]
    },
    {
     "data": {
      "text/plain": [
       "array([False, False, False, False, False])"
      ]
     },
     "execution_count": 26,
     "metadata": {},
     "output_type": "execute_result"
    }
   ],
   "source": [
    "a = np.ones(5)\n",
    "b = np.ones(5)*2\n",
    "print(f\"a, {a}\")\n",
    "print(f\"b, {b}\")\n",
    "np.logical_and(a==1, b==1)"
   ]
  },
  {
   "cell_type": "code",
   "execution_count": 27,
   "id": "9b6615ce",
   "metadata": {},
   "outputs": [
    {
     "data": {
      "text/plain": [
       "True"
      ]
     },
     "execution_count": 27,
     "metadata": {},
     "output_type": "execute_result"
    }
   ],
   "source": [
    "np.logical_and(a==1, b==2).all()"
   ]
  },
  {
   "cell_type": "code",
   "execution_count": 28,
   "id": "ee1a035e",
   "metadata": {},
   "outputs": [
    {
     "name": "stdout",
     "output_type": "stream",
     "text": [
      "c, [0 1 2 3 4]\n"
     ]
    },
    {
     "data": {
      "text/plain": [
       "1"
      ]
     },
     "execution_count": 28,
     "metadata": {},
     "output_type": "execute_result"
    }
   ],
   "source": [
    "c = np.arange(5)\n",
    "print(f\"c, {c}\")\n",
    "np.logical_and(a==1, b==c).sum()"
   ]
  },
  {
   "cell_type": "markdown",
   "id": "07679c0e",
   "metadata": {},
   "source": [
    "## Help\n",
    "\n",
    "In Matlab, you could type\n",
    "```\n",
    "help sqrt\n",
    "```\n",
    "In Python you use `?`, or tab-completion, or `??`, or hoover-over (in, e.g., Spyder)."
   ]
  },
  {
   "cell_type": "code",
   "execution_count": 29,
   "id": "c221ffff",
   "metadata": {},
   "outputs": [
    {
     "data": {
      "text/plain": [
       "\u001b[0;31mCall signature:\u001b[0m  \u001b[0mnp\u001b[0m\u001b[0;34m.\u001b[0m\u001b[0msqrt\u001b[0m\u001b[0;34m(\u001b[0m\u001b[0;34m*\u001b[0m\u001b[0margs\u001b[0m\u001b[0;34m,\u001b[0m \u001b[0;34m**\u001b[0m\u001b[0mkwargs\u001b[0m\u001b[0;34m)\u001b[0m\u001b[0;34m\u001b[0m\u001b[0;34m\u001b[0m\u001b[0m\n",
       "\u001b[0;31mType:\u001b[0m            ufunc\n",
       "\u001b[0;31mString form:\u001b[0m     <ufunc 'sqrt'>\n",
       "\u001b[0;31mFile:\u001b[0m            ~/mambaforge/lib/python3.11/site-packages/numpy/__init__.py\n",
       "\u001b[0;31mDocstring:\u001b[0m      \n",
       "sqrt(x, /, out=None, *, where=True, casting='same_kind', order='K', dtype=None, subok=True[, signature, extobj])\n",
       "\n",
       "Return the non-negative square-root of an array, element-wise.\n",
       "\n",
       "Parameters\n",
       "----------\n",
       "x : array_like\n",
       "    The values whose square-roots are required.\n",
       "out : ndarray, None, or tuple of ndarray and None, optional\n",
       "    A location into which the result is stored. If provided, it must have\n",
       "    a shape that the inputs broadcast to. If not provided or None,\n",
       "    a freshly-allocated array is returned. A tuple (possible only as a\n",
       "    keyword argument) must have length equal to the number of outputs.\n",
       "where : array_like, optional\n",
       "    This condition is broadcast over the input. At locations where the\n",
       "    condition is True, the `out` array will be set to the ufunc result.\n",
       "    Elsewhere, the `out` array will retain its original value.\n",
       "    Note that if an uninitialized `out` array is created via the default\n",
       "    ``out=None``, locations within it where the condition is False will\n",
       "    remain uninitialized.\n",
       "**kwargs\n",
       "    For other keyword-only arguments, see the\n",
       "    :ref:`ufunc docs <ufuncs.kwargs>`.\n",
       "\n",
       "Returns\n",
       "-------\n",
       "y : ndarray\n",
       "    An array of the same shape as `x`, containing the positive\n",
       "    square-root of each element in `x`.  If any element in `x` is\n",
       "    complex, a complex array is returned (and the square-roots of\n",
       "    negative reals are calculated).  If all of the elements in `x`\n",
       "    are real, so is `y`, with negative elements returning ``nan``.\n",
       "    If `out` was provided, `y` is a reference to it.\n",
       "    This is a scalar if `x` is a scalar.\n",
       "\n",
       "See Also\n",
       "--------\n",
       "emath.sqrt\n",
       "    A version which returns complex numbers when given negative reals.\n",
       "    Note that 0.0 and -0.0 are handled differently for complex inputs.\n",
       "\n",
       "Notes\n",
       "-----\n",
       "*sqrt* has--consistent with common convention--as its branch cut the\n",
       "real \"interval\" [`-inf`, 0), and is continuous from above on it.\n",
       "A branch cut is a curve in the complex plane across which a given\n",
       "complex function fails to be continuous.\n",
       "\n",
       "Examples\n",
       "--------\n",
       ">>> np.sqrt([1,4,9])\n",
       "array([ 1.,  2.,  3.])\n",
       "\n",
       ">>> np.sqrt([4, -1, -3+4J])\n",
       "array([ 2.+0.j,  0.+1.j,  1.+2.j])\n",
       "\n",
       ">>> np.sqrt([4, -1, np.inf])\n",
       "array([ 2., nan, inf])\n",
       "\u001b[0;31mClass docstring:\u001b[0m\n",
       "Functions that operate element by element on whole arrays.\n",
       "\n",
       "To see the documentation for a specific ufunc, use `info`.  For\n",
       "example, ``np.info(np.sin)``.  Because ufuncs are written in C\n",
       "(for speed) and linked into Python with NumPy's ufunc facility,\n",
       "Python's help() function finds this page whenever help() is called\n",
       "on a ufunc.\n",
       "\n",
       "A detailed explanation of ufuncs can be found in the docs for :ref:`ufuncs`.\n",
       "\n",
       "**Calling ufuncs:** ``op(*x[, out], where=True, **kwargs)``\n",
       "\n",
       "Apply `op` to the arguments `*x` elementwise, broadcasting the arguments.\n",
       "\n",
       "The broadcasting rules are:\n",
       "\n",
       "* Dimensions of length 1 may be prepended to either array.\n",
       "* Arrays may be repeated along dimensions of length 1.\n",
       "\n",
       "Parameters\n",
       "----------\n",
       "*x : array_like\n",
       "    Input arrays.\n",
       "out : ndarray, None, or tuple of ndarray and None, optional\n",
       "    Alternate array object(s) in which to put the result; if provided, it\n",
       "    must have a shape that the inputs broadcast to. A tuple of arrays\n",
       "    (possible only as a keyword argument) must have length equal to the\n",
       "    number of outputs; use None for uninitialized outputs to be\n",
       "    allocated by the ufunc.\n",
       "where : array_like, optional\n",
       "    This condition is broadcast over the input. At locations where the\n",
       "    condition is True, the `out` array will be set to the ufunc result.\n",
       "    Elsewhere, the `out` array will retain its original value.\n",
       "    Note that if an uninitialized `out` array is created via the default\n",
       "    ``out=None``, locations within it where the condition is False will\n",
       "    remain uninitialized.\n",
       "**kwargs\n",
       "    For other keyword-only arguments, see the :ref:`ufunc docs <ufuncs.kwargs>`.\n",
       "\n",
       "Returns\n",
       "-------\n",
       "r : ndarray or tuple of ndarray\n",
       "    `r` will have the shape that the arrays in `x` broadcast to; if `out` is\n",
       "    provided, it will be returned. If not, `r` will be allocated and\n",
       "    may contain uninitialized values. If the function has more than one\n",
       "    output, then the result will be a tuple of arrays."
      ]
     },
     "metadata": {},
     "output_type": "display_data"
    }
   ],
   "source": [
    "np.sqrt?"
   ]
  },
  {
   "cell_type": "markdown",
   "id": "4535d2aa",
   "metadata": {},
   "source": [
    "### To the power of\n",
    "\n",
    "In Matlab, you use `^`, in Python, you use `**`:"
   ]
  },
  {
   "cell_type": "code",
   "execution_count": 30,
   "id": "74bb06e6",
   "metadata": {},
   "outputs": [
    {
     "data": {
      "text/plain": [
       "81"
      ]
     },
     "execution_count": 30,
     "metadata": {},
     "output_type": "execute_result"
    }
   ],
   "source": [
    "3**4"
   ]
  },
  {
   "cell_type": "markdown",
   "id": "353c9521",
   "metadata": {},
   "source": [
    "## In-place computations!"
   ]
  },
  {
   "cell_type": "code",
   "execution_count": 31,
   "id": "90ae7f86",
   "metadata": {},
   "outputs": [
    {
     "name": "stdout",
     "output_type": "stream",
     "text": [
      "408 ns ± 34.5 ns per loop (mean ± std. dev. of 7 runs, 1,000,000 loops each)\n"
     ]
    }
   ],
   "source": [
    "%%timeit\n",
    "a = 1\n",
    "for i in range(5):\n",
    "    a += i\n",
    "    \n",
    "a"
   ]
  },
  {
   "cell_type": "code",
   "execution_count": 32,
   "id": "803b5c75",
   "metadata": {},
   "outputs": [
    {
     "name": "stdout",
     "output_type": "stream",
     "text": [
      "309 ns ± 52.8 ns per loop (mean ± std. dev. of 7 runs, 1,000,000 loops each)\n"
     ]
    }
   ],
   "source": [
    "%%timeit\n",
    "a = 1\n",
    "for i in range(5):\n",
    "    a = a + i\n",
    "    \n",
    "a"
   ]
  },
  {
   "cell_type": "markdown",
   "id": "b8ef5d25",
   "metadata": {},
   "source": [
    "This _really_ pays out for large arrays, both in speed and in memory! And this applies for all operators, hence `+`, `-`, `*`, `/`."
   ]
  },
  {
   "cell_type": "markdown",
   "id": "1df793dd",
   "metadata": {},
   "source": [
    "## View versus copy\n",
    "\n",
    "By default, NumPy _always_ tries to return a **view**, not a **copy**. This is powerful, but can be confusing for Matlab users."
   ]
  },
  {
   "cell_type": "code",
   "execution_count": 33,
   "id": "b59dd52b",
   "metadata": {},
   "outputs": [
    {
     "data": {
      "text/plain": [
       "(array([1, 2, 3]), array([1, 2, 3]), array([1, 2, 3]))"
      ]
     },
     "execution_count": 33,
     "metadata": {},
     "output_type": "execute_result"
    }
   ],
   "source": [
    "a = np.array([1, 2, 3])\n",
    "b = a         # A VIEW\n",
    "c = a.copy()  # A COPY\n",
    "a, b, c"
   ]
  },
  {
   "cell_type": "code",
   "execution_count": 34,
   "id": "7dbdffa4",
   "metadata": {},
   "outputs": [
    {
     "data": {
      "text/plain": [
       "(array([  1, 100,   3]), array([  1, 100,   3]), array([1, 2, 3]))"
      ]
     },
     "execution_count": 34,
     "metadata": {},
     "output_type": "execute_result"
    }
   ],
   "source": [
    "a[1] = 100\n",
    "a, b, c"
   ]
  },
  {
   "cell_type": "markdown",
   "id": "38ecfc5f",
   "metadata": {},
   "source": [
    "This applies also to other things, such as reshaping. E.g., `ravel` vs `flatten`:"
   ]
  },
  {
   "cell_type": "code",
   "execution_count": 35,
   "id": "97707251",
   "metadata": {},
   "outputs": [
    {
     "data": {
      "text/plain": [
       "array([[ 0,  1,  2,  3],\n",
       "       [ 4,  5,  6,  7],\n",
       "       [ 8,  9, 10, 11]])"
      ]
     },
     "execution_count": 35,
     "metadata": {},
     "output_type": "execute_result"
    }
   ],
   "source": [
    "a = np.arange(12).reshape(3, 4)\n",
    "a"
   ]
  },
  {
   "cell_type": "code",
   "execution_count": 36,
   "id": "a98e5417",
   "metadata": {},
   "outputs": [
    {
     "data": {
      "text/plain": [
       "(array([ 0,  1,  2,  3,  4,  5,  6,  7,  8,  9, 10, 11]),\n",
       " array([ 0,  1,  2,  3,  4,  5,  6,  7,  8,  9, 10, 11]))"
      ]
     },
     "execution_count": 36,
     "metadata": {},
     "output_type": "execute_result"
    }
   ],
   "source": [
    "b = a.ravel()    # => a flattened VIEW\n",
    "c = a.flatten()  # => a flattened COPY\n",
    "b, c"
   ]
  },
  {
   "cell_type": "code",
   "execution_count": 37,
   "id": "8f61fe6e",
   "metadata": {},
   "outputs": [
    {
     "data": {
      "text/plain": [
       "(array([  0,   1,   2,   3,   4, 300,   6,   7,   8,   9,  10,  11]),\n",
       " array([ 0,  1,  2,  3,  4,  5,  6,  7,  8,  9, 10, 11]))"
      ]
     },
     "execution_count": 37,
     "metadata": {},
     "output_type": "execute_result"
    }
   ],
   "source": [
    "a[1, 1] = 300\n",
    "b, c"
   ]
  },
  {
   "cell_type": "code",
   "execution_count": 38,
   "id": "23f8c8a4",
   "metadata": {},
   "outputs": [
    {
     "data": {
      "text/plain": [
       "array([[  0,   1,   2,   3],\n",
       "       [  4, 300,   6, 999],\n",
       "       [  8,   9,  10,  11]])"
      ]
     },
     "execution_count": 38,
     "metadata": {},
     "output_type": "execute_result"
    }
   ],
   "source": [
    "b[7] = 999\n",
    "a"
   ]
  },
  {
   "cell_type": "markdown",
   "id": "e470d383",
   "metadata": {},
   "source": [
    "## Order\n",
    "\n",
    "Matlab is F-ordered, Python is by default C-ordered. However, in NumPy you can define the order (and also check the order of existing arrays). You can also convert one to the other. `ravel`, `reshape` et al usually also have the `order`-argument."
   ]
  },
  {
   "cell_type": "code",
   "execution_count": 39,
   "id": "10cde636",
   "metadata": {},
   "outputs": [
    {
     "data": {
      "text/plain": [
       "array([[ 0,  1,  2,  3],\n",
       "       [ 4,  5,  6,  7],\n",
       "       [ 8,  9, 10, 11]])"
      ]
     },
     "execution_count": 39,
     "metadata": {},
     "output_type": "execute_result"
    }
   ],
   "source": [
    "xc = np.arange(12).reshape(3, 4)  # By default, it is C-ordered!\n",
    "xc"
   ]
  },
  {
   "cell_type": "code",
   "execution_count": 40,
   "id": "101aa74f",
   "metadata": {},
   "outputs": [
    {
     "data": {
      "text/plain": [
       "array([[ 0,  3,  6,  9],\n",
       "       [ 1,  4,  7, 10],\n",
       "       [ 2,  5,  8, 11]])"
      ]
     },
     "execution_count": 40,
     "metadata": {},
     "output_type": "execute_result"
    }
   ],
   "source": [
    "xf = np.arange(12).reshape(3, 4, order='F')\n",
    "xf"
   ]
  },
  {
   "cell_type": "code",
   "execution_count": 41,
   "id": "fee72864",
   "metadata": {},
   "outputs": [
    {
     "data": {
      "text/plain": [
       "  C_CONTIGUOUS : True\n",
       "  F_CONTIGUOUS : False\n",
       "  OWNDATA : False\n",
       "  WRITEABLE : True\n",
       "  ALIGNED : True\n",
       "  WRITEBACKIFCOPY : False"
      ]
     },
     "execution_count": 41,
     "metadata": {},
     "output_type": "execute_result"
    }
   ],
   "source": [
    "xc.flags"
   ]
  },
  {
   "cell_type": "code",
   "execution_count": 42,
   "id": "0b0b0fa5",
   "metadata": {},
   "outputs": [
    {
     "data": {
      "text/plain": [
       "(True, False)"
      ]
     },
     "execution_count": 42,
     "metadata": {},
     "output_type": "execute_result"
    }
   ],
   "source": [
    "xc.flags['C_CONTIGUOUS'], xf.flags['C_CONTIGUOUS']"
   ]
  },
  {
   "cell_type": "markdown",
   "id": "0f5b453d",
   "metadata": {
    "tags": []
   },
   "source": [
    "## Division et al"
   ]
  },
  {
   "cell_type": "code",
   "execution_count": 43,
   "id": "8212796d",
   "metadata": {},
   "outputs": [
    {
     "data": {
      "text/plain": [
       "0.5"
      ]
     },
     "execution_count": 43,
     "metadata": {},
     "output_type": "execute_result"
    }
   ],
   "source": [
    "1/2"
   ]
  },
  {
   "cell_type": "code",
   "execution_count": 44,
   "id": "e2607fda",
   "metadata": {},
   "outputs": [
    {
     "data": {
      "text/plain": [
       "1.0"
      ]
     },
     "execution_count": 44,
     "metadata": {},
     "output_type": "execute_result"
    }
   ],
   "source": [
    "np.pi//2         # Integer division; also np.floor_divide(np.pi, 2)"
   ]
  },
  {
   "cell_type": "code",
   "execution_count": 45,
   "id": "55974191",
   "metadata": {},
   "outputs": [
    {
     "data": {
      "text/plain": [
       "1"
      ]
     },
     "execution_count": 45,
     "metadata": {},
     "output_type": "execute_result"
    }
   ],
   "source": [
    "3%2              # Remainder, also np.mod(3, 2)"
   ]
  },
  {
   "cell_type": "code",
   "execution_count": 46,
   "id": "714890b4",
   "metadata": {},
   "outputs": [
    {
     "data": {
      "text/plain": [
       "(1, 1)"
      ]
     },
     "execution_count": 46,
     "metadata": {},
     "output_type": "execute_result"
    }
   ],
   "source": [
    "np.divmod(3, 2)  # Simultaneous floor division and remainder"
   ]
  },
  {
   "cell_type": "code",
   "execution_count": 47,
   "id": "4a29715a",
   "metadata": {},
   "outputs": [
    {
     "data": {
      "text/plain": [
       "1"
      ]
     },
     "execution_count": 47,
     "metadata": {},
     "output_type": "execute_result"
    }
   ],
   "source": [
    "np.fmod(3, 2)   # Equivalent of the MATLAB ``rem`` function."
   ]
  },
  {
   "cell_type": "markdown",
   "id": "324c6114",
   "metadata": {},
   "source": [
    "## Element-wise operations\n",
    "\n",
    "In Python, everything is an array. Hence, `*` and `/` are always elementwise.\n",
    "\n",
    "In Matlab, you need a dot `.` for that, e.g.,\n",
    "```\n",
    "a .* b\n",
    "a ./ b\n",
    "```\n",
    "\n",
    "In Python, there is NO dot. E.g., `a.^2` is simply `a**2`."
   ]
  },
  {
   "cell_type": "code",
   "execution_count": 48,
   "id": "bc0a7f51",
   "metadata": {},
   "outputs": [
    {
     "data": {
      "text/plain": [
       "(array([[  1,  10, 100],\n",
       "        [  1,   2,   3]]),\n",
       " array([[1, 1, 1],\n",
       "        [2, 2, 2]]))"
      ]
     },
     "execution_count": 48,
     "metadata": {},
     "output_type": "execute_result"
    }
   ],
   "source": [
    "a = np.array([[1, 10, 100], [1, 2, 3]])\n",
    "b = np.array([[1, 1, 1], [2, 2, 2]])\n",
    "a, b"
   ]
  },
  {
   "cell_type": "code",
   "execution_count": 49,
   "id": "4add6dd5",
   "metadata": {},
   "outputs": [
    {
     "data": {
      "text/plain": [
       "array([[  1,  10, 100],\n",
       "       [  2,   4,   6]])"
      ]
     },
     "execution_count": 49,
     "metadata": {},
     "output_type": "execute_result"
    }
   ],
   "source": [
    "a * b"
   ]
  },
  {
   "cell_type": "code",
   "execution_count": 50,
   "id": "0b8ebded",
   "metadata": {},
   "outputs": [
    {
     "data": {
      "text/plain": [
       "array([[  1. ,  10. , 100. ],\n",
       "       [  0.5,   1. ,   1.5]])"
      ]
     },
     "execution_count": 50,
     "metadata": {},
     "output_type": "execute_result"
    }
   ],
   "source": [
    "a / b"
   ]
  },
  {
   "cell_type": "markdown",
   "id": "e80c7312",
   "metadata": {},
   "source": [
    "The Matlab behaviour by default is matrix operations. If you want that in Python, you need the `@` operator.\n",
    "\n",
    "Also, the transpose in Matlab, `b'`, is obtained through `b.T` or `b.transpose()` in NumPy."
   ]
  },
  {
   "cell_type": "code",
   "execution_count": 51,
   "id": "5373de71",
   "metadata": {},
   "outputs": [
    {
     "data": {
      "text/plain": [
       "array([[111, 222],\n",
       "       [  6,  12]])"
      ]
     },
     "execution_count": 51,
     "metadata": {},
     "output_type": "execute_result"
    }
   ],
   "source": [
    "a @ b.transpose()"
   ]
  },
  {
   "cell_type": "markdown",
   "id": "51580079",
   "metadata": {},
   "source": [
    "## Structure\n",
    "\n",
    "There is no direct structure-equivalent (`struct`) in Python.\n",
    "\n",
    "You can get around it very dirty by creating a dummy class. However, I DO NOT RECOMMEND THAT."
   ]
  },
  {
   "cell_type": "code",
   "execution_count": 52,
   "id": "c3fedc1e",
   "metadata": {},
   "outputs": [],
   "source": [
    "class MyStruct:\n",
    "    pass\n",
    "\n",
    "a = MyStruct()\n",
    "a.b = 1\n",
    "a.c = np.zeros((3, 3))"
   ]
  },
  {
   "cell_type": "markdown",
   "id": "9c883002",
   "metadata": {},
   "source": [
    "I rather recommend to use dictionnaires instead to collect things."
   ]
  },
  {
   "cell_type": "code",
   "execution_count": 53,
   "id": "4472f9e2",
   "metadata": {},
   "outputs": [
    {
     "data": {
      "text/plain": [
       "{'b': 1,\n",
       " 'c': array([[0., 0., 0.],\n",
       "        [0., 0., 0.],\n",
       "        [0., 0., 0.]])}"
      ]
     },
     "execution_count": 53,
     "metadata": {},
     "output_type": "execute_result"
    }
   ],
   "source": [
    "a = {}\n",
    "a['b'] = 1\n",
    "a['c'] = np.zeros((3, 3))\n",
    "a"
   ]
  },
  {
   "cell_type": "markdown",
   "id": "f221a097",
   "metadata": {},
   "source": [
    "## Functions"
   ]
  },
  {
   "cell_type": "code",
   "execution_count": 54,
   "id": "61fb96f2",
   "metadata": {},
   "outputs": [],
   "source": [
    "def functionname(x):\n",
    "    # do stuff\n",
    "    y = np.sin(x)\n",
    "    return y"
   ]
  },
  {
   "cell_type": "code",
   "execution_count": 55,
   "id": "35576d1b",
   "metadata": {},
   "outputs": [
    {
     "data": {
      "text/plain": [
       "-0.9589242746631385"
      ]
     },
     "execution_count": 55,
     "metadata": {},
     "output_type": "execute_result"
    }
   ],
   "source": [
    "functionname(5)"
   ]
  },
  {
   "cell_type": "markdown",
   "id": "b8e2f068",
   "metadata": {},
   "source": [
    "## Classes"
   ]
  },
  {
   "cell_type": "code",
   "execution_count": 56,
   "id": "076266fa",
   "metadata": {},
   "outputs": [],
   "source": [
    "class MyClass:  # Use CamelCase for function names\n",
    "    \n",
    "    def __init__(self, x):\n",
    "        self.x = x\n",
    "        \n",
    "    def multiply_me(self, y):\n",
    "        return self.x * y"
   ]
  },
  {
   "cell_type": "code",
   "execution_count": 57,
   "id": "13654edf",
   "metadata": {},
   "outputs": [
    {
     "data": {
      "text/plain": [
       "6.0"
      ]
     },
     "execution_count": 57,
     "metadata": {},
     "output_type": "execute_result"
    }
   ],
   "source": [
    "MyInstance = MyClass(3.0)\n",
    "MyInstance.multiply_me(2)"
   ]
  },
  {
   "cell_type": "markdown",
   "id": "a4846f27",
   "metadata": {},
   "source": [
    "## Comparison"
   ]
  },
  {
   "cell_type": "code",
   "execution_count": 58,
   "id": "b348f79c",
   "metadata": {},
   "outputs": [
    {
     "name": "stdout",
     "output_type": "stream",
     "text": [
      "Yes\n"
     ]
    }
   ],
   "source": [
    "a = True\n",
    "if a is True:\n",
    "    print('Yes')\n",
    "    \n",
    "if not a:\n",
    "    print('No')"
   ]
  },
  {
   "cell_type": "markdown",
   "id": "7ae12561",
   "metadata": {},
   "source": [
    "# Plotting\n",
    "\n",
    "The procedural way"
   ]
  },
  {
   "cell_type": "code",
   "execution_count": 59,
   "id": "f6d7b19b",
   "metadata": {},
   "outputs": [
    {
     "data": {
      "text/plain": [
       "[<matplotlib.lines.Line2D at 0x7c152a9611d0>]"
      ]
     },
     "execution_count": 59,
     "metadata": {},
     "output_type": "execute_result"
    },
    {
     "data": {
      "image/png": "[encoded data removed]",
      "text/plain": [
       "<Figure size 640x480 with 1 Axes>"
      ]
     },
     "metadata": {},
     "output_type": "display_data"
    }
   ],
   "source": [
    "x = np.linspace(0, 4*np.pi, 301)\n",
    "\n",
    "plt.figure()\n",
    "plt.plot(x, np.sin(x))"
   ]
  },
  {
   "cell_type": "markdown",
   "id": "c3aade21",
   "metadata": {},
   "source": [
    "The OO way."
   ]
  },
  {
   "cell_type": "code",
   "execution_count": 60,
   "id": "77fb7185",
   "metadata": {},
   "outputs": [
    {
     "data": {
      "text/plain": [
       "[<matplotlib.lines.Line2D at 0x7c152a6f6e90>]"
      ]
     },
     "execution_count": 60,
     "metadata": {},
     "output_type": "execute_result"
    },
    {
     "data": {
      "image/png": "[encoded data removed]",
      "text/plain": [
       "<Figure size 640x480 with 1 Axes>"
      ]
     },
     "metadata": {},
     "output_type": "display_data"
    }
   ],
   "source": [
    "fig, ax = plt.subplots(1, 1)\n",
    "\n",
    "ax.plot(x, np.sin(x))"
   ]
  },
  {
   "cell_type": "markdown",
   "id": "a8f32b22",
   "metadata": {},
   "source": [
    "## Common things not (yet) covered\n",
    "\n",
    "- `with`\n",
    "- `yield`\n",
    "- `try` - `except` - `else`\n",
    "- `assert`\n",
    "- `raise`\n",
    "- `ravel`, `flatten`, `squeeze`\n",
    "- `copy`\n",
    "- slicing and broadcasting\n",
    "- list comprehension\n",
    "- lists and tuples, dicts"
   ]
  },
  {
   "cell_type": "code",
   "execution_count": 61,
   "id": "2c74f5d1",
   "metadata": {},
   "outputs": [
    {
     "data": {
      "text/html": [
       "<table style='border: 1.5px solid;'>\n",
       "  <tr>\n",
       "     <td style='text-align: center; font-weight: bold; font-size: 1.2em; border: 1px solid;' colspan='8'>Sun Jun 23 16:22:38 2024 CEST</td>\n",
       "  </tr>\n",
       "  <tr>\n",
       "    <td style='text-align: right; border: 1px solid;'>OS</td>\n",
       "    <td style='text-align: left; border: 1px solid;'>Linux</td>\n",
       "    <td style='text-align: right; border: 1px solid;'>CPU(s)</td>\n",
       "    <td style='text-align: left; border: 1px solid;'>4</td>\n",
       "    <td style='text-align: right; border: 1px solid;'>Machine</td>\n",
       "    <td style='text-align: left; border: 1px solid;'>x86_64</td>\n",
       "    <td style='text-align: right; border: 1px solid;'>Architecture</td>\n",
       "    <td style='text-align: left; border: 1px solid;'>64bit</td>\n",
       "  </tr>\n",
       "  <tr>\n",
       "    <td style='text-align: right; border: 1px solid;'>RAM</td>\n",
       "    <td style='text-align: left; border: 1px solid;'>15.5 GiB</td>\n",
       "    <td style='text-align: right; border: 1px solid;'>Environment</td>\n",
       "    <td style='text-align: left; border: 1px solid;'>Jupyter</td>\n",
       "    <td style='text-align: right; border: 1px solid;'>File system</td>\n",
       "    <td style='text-align: left; border: 1px solid;'>ext4</td>\n",
       "  </tr>\n",
       "  <tr>\n",
       "     <td style='text-align: center; border: 1px solid;' colspan='8'>Python 3.11.4 | packaged by conda-forge | (main, Jun 10 2023, 18:08:17) [GCC 12.2.0]</td>\n",
       "  </tr>\n",
       "  <tr>\n",
       "    <td style='text-align: right; border: 1px solid;'>numpy</td>\n",
       "    <td style='text-align: left; border: 1px solid;'>1.26.4</td>\n",
       "    <td style='text-align: right; border: 1px solid;'>scipy</td>\n",
       "    <td style='text-align: left; border: 1px solid;'>1.12.0</td>\n",
       "    <td style='text-align: right; border: 1px solid;'>IPython</td>\n",
       "    <td style='text-align: left; border: 1px solid;'>8.22.1</td>\n",
       "    <td style='text-align: right; border: 1px solid;'>matplotlib</td>\n",
       "    <td style='text-align: left; border: 1px solid;'>3.7.2</td>\n",
       "  </tr>\n",
       "  <tr>\n",
       "    <td style='text-align: right; border: 1px solid;'>scooby</td>\n",
       "    <td style='text-align: left; border: 1px solid;'>0.7.2</td>\n",
       "    <td style= border: 1px solid;'></td>\n",
       "    <td style= border: 1px solid;'></td>\n",
       "    <td style= border: 1px solid;'></td>\n",
       "    <td style= border: 1px solid;'></td>\n",
       "    <td style= border: 1px solid;'></td>\n",
       "    <td style= border: 1px solid;'></td>\n",
       "  </tr>\n",
       "</table>"
      ],
      "text/plain": [
       "\n",
       "--------------------------------------------------------------------------------\n",
       "  Date: Sun Jun 23 16:22:38 2024 CEST\n",
       "\n",
       "                OS : Linux\n",
       "            CPU(s) : 4\n",
       "           Machine : x86_64\n",
       "      Architecture : 64bit\n",
       "               RAM : 15.5 GiB\n",
       "       Environment : Jupyter\n",
       "       File system : ext4\n",
       "\n",
       "  Python 3.11.4 | packaged by conda-forge | (main, Jun 10 2023, 18:08:17) [GCC\n",
       "  12.2.0]\n",
       "\n",
       "             numpy : 1.26.4\n",
       "             scipy : 1.12.0\n",
       "           IPython : 8.22.1\n",
       "        matplotlib : 3.7.2\n",
       "            scooby : 0.7.2\n",
       "--------------------------------------------------------------------------------"
      ]
     },
     "execution_count": 61,
     "metadata": {},
     "output_type": "execute_result"
    }
   ],
   "source": [
    "# For easier reproducibility\n",
    "try:\n",
    "    from scooby import Report    \n",
    "except ModuleNotFoundError as e:\n",
    "    class Report:\n",
    "        def __init__(self, *args, **kwargs):\n",
    "            pass\n",
    "        def _repr_html_(self):\n",
    "            return 'For the `Report()` you need to install `scooby`!'\n",
    "\n",
    "Report()"
   ]
  }
 ],
 "metadata": {
  "celltoolbar": "Geen",
  "kernelspec": {
   "display_name": "Python 3 (ipykernel)",
   "language": "python",
   "name": "python3"
  },
  "language_info": {
   "codemirror_mode": {
    "name": "ipython",
    "version": 3
   },
   "file_extension": ".py",
   "mimetype": "text/x-python",
   "name": "python",
   "nbconvert_exporter": "python",
   "pygments_lexer": "ipython3",
   "version": "3.11.4"
  }
 },
 "nbformat": 4,
 "nbformat_minor": 5
}
